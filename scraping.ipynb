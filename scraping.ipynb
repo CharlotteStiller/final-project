{
 "cells": [
  {
   "cell_type": "markdown",
   "id": "82e820ce",
   "metadata": {},
   "source": [
    "# DATA SCRAPING"
   ]
  },
  {
   "cell_type": "markdown",
   "id": "8a26c1c7",
   "metadata": {},
   "source": [
    "To scrape 60.000 product details from the e-commerce website there are four main steps necessary: \n",
    "- Look at the main categories the products are devided in\n",
    "- Find out how much overview pages I have to enter per category \n",
    "- Enter every overview page to get the product url and the rating of each product (df_01) \n",
    "- Scrape the product details from the product page and safe them into a dataframe (df_02)\n",
    "- Concat the two dataframes (df) "
   ]
  },
  {
   "cell_type": "markdown",
   "id": "5e20f930",
   "metadata": {},
   "source": [
    "This is what the target data frame should look like:"
   ]
  },
  {
   "cell_type": "markdown",
   "id": "08455624",
   "metadata": {},
   "source": [
    "| Column           | Description                        | Example                   |\n",
    "|------------------|------------------------------------|---------------------------|\n",
    "| item_nb          | Item number                        | 037414                    |\n",
    "| brand            | Name of the brand                  | Clinique                  |\n",
    "| product          | Name of the product                | Lash Power                |\n",
    "| typ              | Typ of the product                 | Mascara                   |\n",
    "| size             | ml of the product                  | 6ml                       |\n",
    "| price            | Price in €                         | 18,39                     |\n",
    "| category         | Hair, Face, Make-up, Body, Perfume | Make-up                   |\n",
    "| scope            | Area of application                | Face                      |\n",
    "| charesteristics  | Find trending charesteristics      | highly pigmented, shaping |\n",
    "| effect           | Desired effect of the product      | refining                  |\n",
    "| product_award    | Find trending awards               | perfume free              |\n",
    "| age              | For which product is recommended   | 20+                       |\n",
    "| number_rating    | How many people rate the product   | 55                        |\n",
    "| rating           | Star rating 1-5                    | 4,5                       |\n",
    "| url              | URL ID                             | 50000050                  |"
   ]
  },
  {
   "cell_type": "code",
   "execution_count": 3,
   "id": "71e20b3e",
   "metadata": {},
   "outputs": [],
   "source": [
    "import pandas as pd\n",
    "from helper_scraping import *"
   ]
  },
  {
   "cell_type": "markdown",
   "id": "8678ccb6",
   "metadata": {},
   "source": [
    "# GET OVERVIEW URLS"
   ]
  },
  {
   "cell_type": "markdown",
   "id": "b71ede93",
   "metadata": {},
   "source": [
    "This function gives us first the number of pages we have to itterate for each category and then the urls for the pages. "
   ]
  },
  {
   "cell_type": "code",
   "execution_count": null,
   "id": "300f467b",
   "metadata": {},
   "outputs": [],
   "source": [
    "parfum_urls = category_urls('https://www.website.de/de/c/parfum/07')\n",
    "make_up_urls = category_urls('https://www.website.de/de/c/make-up/08')\n",
    "face_urls = category_urls('https://www.website.de/de/c/face/09')\n",
    "body_urls = category_urls('https://www.website.de/de/c/body/10')\n",
    "hair_urls = category_urls('https://www.website.de/de/c/hair/11')"
   ]
  },
  {
   "cell_type": "markdown",
   "id": "1c7dd02a",
   "metadata": {},
   "source": [
    "Giving all the data into a dataframe with pd.DataFrame and save it as a csv file. After this controlling if every csv has a realitic length of urls. "
   ]
  },
  {
   "cell_type": "code",
   "execution_count": null,
   "id": "d9826214",
   "metadata": {},
   "outputs": [],
   "source": [
    "df_hair_urls = pd.DataFrame({\"url\": hair_urls})\n",
    "df_hair_urls.to_csv(\"df_category_hair_urls.csv\")"
   ]
  },
  {
   "cell_type": "code",
   "execution_count": 5,
   "id": "c2da0865",
   "metadata": {},
   "outputs": [
    {
     "name": "stdout",
     "output_type": "stream",
     "text": [
      "df_category_body_urls.csv, length: 185\n",
      "df_category_parfum.csv, length: 151\n",
      "df_category_face_urls.csv, length: 287\n",
      "df_category_hair_urls.csv, length: 174\n",
      "df_category_make_up_urls.csv, length: 302\n"
     ]
    }
   ],
   "source": [
    "csv_url_category = [\"df_category_body_urls.csv\", \"df_category_parfum.csv\", \"df_category_face_urls.csv\", \"df_category_hair_urls.csv\", \"df_category_make_up_urls.csv\"]\n",
    "\n",
    "liste_all_categroy_urls = []\n",
    "\n",
    "for i in csv_url_category:\n",
    "    url_category = pd.read_csv(i)\n",
    "    liste_url_category = url_category[\"url\"]\n",
    "    print(i + \", length: \" + str(len(liste_url_category)))\n",
    "    liste_all_categroy_urls.append(liste_url_category)"
   ]
  },
  {
   "cell_type": "markdown",
   "id": "f8d126ce",
   "metadata": {},
   "source": [
    "To get a list of all categories together using the chain function:"
   ]
  },
  {
   "cell_type": "code",
   "execution_count": 7,
   "id": "75684905",
   "metadata": {},
   "outputs": [
    {
     "data": {
      "text/plain": [
       "1099"
      ]
     },
     "execution_count": 7,
     "metadata": {},
     "output_type": "execute_result"
    }
   ],
   "source": [
    "all_category_urls = list(itertools.chain(liste_all_categroy_urls[0], liste_all_categroy_urls[1] ,liste_all_categroy_urls[2] ,liste_all_categroy_urls[3],liste_all_categroy_urls[4]))\n",
    "len(all_category_urls)"
   ]
  },
  {
   "cell_type": "markdown",
   "id": "c05fa519",
   "metadata": {},
   "source": [
    "We've got 1099 pages with mostly 55 products on each page. So after scraping the details from each product we will have a dataset with round about 60.000 products. "
   ]
  },
  {
   "cell_type": "markdown",
   "id": "85532334",
   "metadata": {},
   "source": [
    "# GET PRODUCT URLS & PRODUCT RATINGS "
   ]
  },
  {
   "cell_type": "markdown",
   "id": "39739498",
   "metadata": {},
   "source": [
    "On every overview page are 50 products. Scraping the url of each product page helps to scrape the product details afterwards. In the same step it is neccessary to scrape the rating, because the rating is only on the overview page and not on the product page. \n",
    "The product ID make the product accessible throug the link (href link = /de/z/2090105322) "
   ]
  },
  {
   "cell_type": "markdown",
   "id": "b563811d",
   "metadata": {},
   "source": [
    "This function returns the cleaned rating, number of ratings and the url of every product"
   ]
  },
  {
   "cell_type": "code",
   "execution_count": null,
   "id": "8e5feafe",
   "metadata": {},
   "outputs": [],
   "source": [
    "df_01 = id_rating_cleaner(all_category_urls)\n",
    "df_01.to_csv(\"df_01.csv\")"
   ]
  },
  {
   "cell_type": "code",
   "execution_count": 8,
   "id": "5024d2c3",
   "metadata": {},
   "outputs": [
    {
     "data": {
      "text/plain": [
       "(52116, 6)"
      ]
     },
     "execution_count": 8,
     "metadata": {},
     "output_type": "execute_result"
    }
   ],
   "source": [
    "df_01 = pd.read_csv(\"df_01.csv\")\n",
    "product_urls = df_01[\"url\"].to_list()\n",
    "len(product_urls)"
   ]
  },
  {
   "cell_type": "markdown",
   "id": "59073541",
   "metadata": {},
   "source": [
    "# GET ALL DETAILS "
   ]
  },
  {
   "cell_type": "markdown",
   "id": "0a091b97",
   "metadata": {},
   "source": [
    "This function works with calling many different functions to get all the different details from the product page and store it into a dataframe. \n",
    "Beause I want make sure to not overtax the server I'm scraping from (and stop now and than)  I make sure to save the product details after I scraped 50 and additionally I worked with time sleepers. "
   ]
  },
  {
   "cell_type": "code",
   "execution_count": null,
   "id": "6e63076a",
   "metadata": {},
   "outputs": [],
   "source": [
    "start = 0\n",
    "\n",
    "for i in range(start, 50000, 50):\n",
    "    product_urls_list = product_urls[i:i+50]\n",
    "    df_2 = get_data(product_urls_list)\n",
    "    df_2.to_csv('df_2_{0}.csv'.format(i))"
   ]
  },
  {
   "cell_type": "markdown",
   "id": "6f1aa755",
   "metadata": {},
   "source": [
    "# GET A DATAFRAME "
   ]
  },
  {
   "cell_type": "markdown",
   "id": "6f236654",
   "metadata": {},
   "source": [
    "Concat everything and safe it as csv. "
   ]
  },
  {
   "cell_type": "code",
   "execution_count": null,
   "id": "dc83e086",
   "metadata": {},
   "outputs": [],
   "source": [
    "df_2 = pd.DataFrame([])\n",
    "\n",
    "for file_name in glob.glob(r'C:\\Users\\charlotte\\df_02_50\\*.csv'):\n",
    "    df = pd.read_csv(file_name)\n",
    "    df_2 = pd.concat([df_2, df])"
   ]
  },
  {
   "cell_type": "code",
   "execution_count": null,
   "id": "b89e8d64",
   "metadata": {},
   "outputs": [],
   "source": [
    "frames = [df_1, df_2]\n",
    "df = pd.concat(frames)\n",
    "df.to_csv(\"df.csv\")"
   ]
  },
  {
   "cell_type": "code",
   "execution_count": 17,
   "id": "76eb8ac8",
   "metadata": {},
   "outputs": [
    {
     "data": {
      "text/plain": [
       "61598"
      ]
     },
     "execution_count": 17,
     "metadata": {},
     "output_type": "execute_result"
    }
   ],
   "source": [
    "df = pd.read_csv(\"df.csv\")\n",
    "len(df[\"item_nb\"])"
   ]
  },
  {
   "cell_type": "markdown",
   "id": "0a3e1542",
   "metadata": {},
   "source": [
    "There are details from about 61.598 product pages in the dataframe df. In the next step I will clean the data and look for some insights. (Notebook: Cleaning_data_first_insights)"
   ]
  }
 ],
 "metadata": {
  "kernelspec": {
   "display_name": "Python 3",
   "language": "python",
   "name": "python3"
  },
  "language_info": {
   "codemirror_mode": {
    "name": "ipython",
    "version": 3
   },
   "file_extension": ".py",
   "mimetype": "text/x-python",
   "name": "python",
   "nbconvert_exporter": "python",
   "pygments_lexer": "ipython3",
   "version": "3.8.8"
  }
 },
 "nbformat": 4,
 "nbformat_minor": 5
}
